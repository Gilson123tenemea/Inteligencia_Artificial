{
 "cells": [
  {
   "cell_type": "markdown",
   "id": "3958fd5a",
   "metadata": {},
   "source": [
    "# CURSO DE FUNDAMENTOS DE PYTHON\n",
    "## EJERCICIOS DE TUPLAS"
   ]
  },
  {
   "cell_type": "markdown",
   "id": "95569d08",
   "metadata": {},
   "source": [
    "### Ejercicio 1\n",
    "Crear una tupla vacía"
   ]
  },
  {
   "cell_type": "code",
   "execution_count": null,
   "id": "4dbdd0f3",
   "metadata": {},
   "outputs": [],
   "source": [
    "# Escribe tu solución aquí\n"
   ]
  },
  {
   "cell_type": "markdown",
   "id": "471ea4ec",
   "metadata": {},
   "source": [
    "### Ejercicio 2\n",
    "Crear una tupla con algunos elementos"
   ]
  },
  {
   "cell_type": "code",
   "execution_count": null,
   "id": "d64155ad",
   "metadata": {},
   "outputs": [],
   "source": [
    "# Escribe tu solución aquí\n"
   ]
  },
  {
   "cell_type": "markdown",
   "id": "e58dc97c",
   "metadata": {},
   "source": [
    "### Ejercicio 3\n",
    "Acceder a un elemento de la tupla"
   ]
  },
  {
   "cell_type": "code",
   "execution_count": null,
   "id": "3d38d0a1",
   "metadata": {},
   "outputs": [],
   "source": [
    "# Escribe tu solución aquí\n"
   ]
  },
  {
   "cell_type": "markdown",
   "id": "3d3ea4ff",
   "metadata": {},
   "source": [
    "### Ejercicio 4\n",
    "Intentar modificar un elemento de la tupla (esto producirá un error ya que las tuplas son inmutables)"
   ]
  },
  {
   "cell_type": "code",
   "execution_count": null,
   "id": "23550096",
   "metadata": {},
   "outputs": [],
   "source": [
    "# Escribe tu solución aquí\n"
   ]
  },
  {
   "cell_type": "markdown",
   "id": "2f46a63f",
   "metadata": {},
   "source": [
    "### Ejercicio 5\n",
    "Concatenar dos tuplas"
   ]
  },
  {
   "cell_type": "code",
   "execution_count": null,
   "id": "a70577e9",
   "metadata": {},
   "outputs": [],
   "source": [
    "# Escribe tu solución aquí\n"
   ]
  },
  {
   "cell_type": "markdown",
   "id": "06989a64",
   "metadata": {},
   "source": [
    "### Ejercicio 6\n",
    "Obtener la longitud de una tupla"
   ]
  },
  {
   "cell_type": "code",
   "execution_count": null,
   "id": "511c00ed",
   "metadata": {},
   "outputs": [],
   "source": [
    "# Escribe tu solución aquí\n"
   ]
  },
  {
   "cell_type": "markdown",
   "id": "043aa8f9",
   "metadata": {},
   "source": [
    "### Ejercicio 7\n",
    "Convertir una tupla en una lista"
   ]
  },
  {
   "cell_type": "code",
   "execution_count": null,
   "id": "be09e1b7",
   "metadata": {},
   "outputs": [],
   "source": [
    "# Escribe tu solución aquí\n"
   ]
  },
  {
   "cell_type": "markdown",
   "id": "d9c8b3d6",
   "metadata": {},
   "source": [
    "### Ejercicio 8\n",
    "Convertir una lista en una tupla"
   ]
  },
  {
   "cell_type": "code",
   "execution_count": null,
   "id": "c9d30b3f",
   "metadata": {},
   "outputs": [],
   "source": [
    "# Escribe tu solución aquí\n"
   ]
  },
  {
   "cell_type": "markdown",
   "id": "7176ec06",
   "metadata": {},
   "source": [
    "### Ejercicio 9\n",
    "Crear una tupla de números enteros y calcular su suma y promedio"
   ]
  },
  {
   "cell_type": "code",
   "execution_count": null,
   "id": "e7f7a609",
   "metadata": {},
   "outputs": [],
   "source": [
    "# Escribe tu solución aquí\n"
   ]
  },
  {
   "cell_type": "markdown",
   "id": "40cff443",
   "metadata": {},
   "source": [
    "### Ejercicio 10\n",
    "Crear dos tuplas de la misma longitud y crear una nueva tupla que contenga la suma de los elementos correspondientes de ambas tuplas"
   ]
  },
  {
   "cell_type": "code",
   "execution_count": null,
   "id": "7e86cf87",
   "metadata": {},
   "outputs": [],
   "source": [
    "# Escribe tu solución aquí\n"
   ]
  },
  {
   "cell_type": "markdown",
   "id": "1860c8b5",
   "metadata": {},
   "source": [
    "### Ejercicio 11\n",
    "Crear una tupla de nombres y ordenarla alfabéticamente"
   ]
  },
  {
   "cell_type": "code",
   "execution_count": null,
   "id": "8747c99f",
   "metadata": {},
   "outputs": [],
   "source": [
    "# Escribe tu solución aquí\n"
   ]
  },
  {
   "cell_type": "markdown",
   "id": "55909a48",
   "metadata": {},
   "source": [
    "### Ejercicio 12\n",
    "Crear una tupla de números y encontrar el valor mínimo y máximo"
   ]
  },
  {
   "cell_type": "code",
   "execution_count": null,
   "id": "40caeaad",
   "metadata": {},
   "outputs": [],
   "source": [
    "# Escribe tu solución aquí\n"
   ]
  },
  {
   "cell_type": "markdown",
   "id": "226d77e2",
   "metadata": {},
   "source": [
    "### Ejercicio 13\n",
    "Crear una tupla de números y convertirla en una lista"
   ]
  },
  {
   "cell_type": "code",
   "execution_count": null,
   "id": "8d33e2a9",
   "metadata": {},
   "outputs": [],
   "source": [
    "# Escribe tu solución aquí\n"
   ]
  },
  {
   "cell_type": "markdown",
   "id": "aed8eb40",
   "metadata": {},
   "source": [
    "### Ejercicio 14\n",
    "Crear una tupla con los días de la semana y mostrar el tercer elemento"
   ]
  },
  {
   "cell_type": "code",
   "execution_count": null,
   "id": "e0e0592d",
   "metadata": {},
   "outputs": [],
   "source": [
    "# Escribe tu solución aquí\n"
   ]
  },
  {
   "cell_type": "markdown",
   "id": "a4e2f0bd",
   "metadata": {},
   "source": [
    "### Ejercicio 15\n",
    "Crear una tupla con números enteros y mostrar aquellos que son pares"
   ]
  },
  {
   "cell_type": "code",
   "execution_count": null,
   "id": "ae68bcc2",
   "metadata": {},
   "outputs": [],
   "source": [
    "# Escribe tu solución aquí\n"
   ]
  },
  {
   "cell_type": "markdown",
   "id": "e062a7b7",
   "metadata": {},
   "source": [
    "### Ejercicio 16\n",
    "Crear una tupla con los meses del año y mostrar aquellos que tienen más de cinco letras"
   ]
  },
  {
   "cell_type": "code",
   "execution_count": null,
   "id": "e58a5aeb",
   "metadata": {},
   "outputs": [],
   "source": [
    "# Escribe tu solución aquí\n"
   ]
  },
  {
   "cell_type": "markdown",
   "id": "c7e09ce7",
   "metadata": {},
   "source": [
    "### Ejercicio 17\n",
    "Crear una tupla con las edades de varias personas y mostrar la cantidad de personas mayores de 18 años"
   ]
  },
  {
   "cell_type": "code",
   "execution_count": null,
   "id": "d07c0fd7",
   "metadata": {},
   "outputs": [],
   "source": [
    "# Escribe tu solución aquí\n"
   ]
  },
  {
   "cell_type": "markdown",
   "id": "e499c0fc",
   "metadata": {},
   "source": [
    "### Ejercicio 18\n",
    "Crear una tupla de tuplas que contienen información de libros y mostrar el título del tercer libro"
   ]
  },
  {
   "cell_type": "code",
   "execution_count": null,
   "id": "bdb7376a",
   "metadata": {},
   "outputs": [],
   "source": [
    "# Escribe tu solución aquí\n"
   ]
  }
 ],
 "metadata": {},
 "nbformat": 4,
 "nbformat_minor": 5
}
