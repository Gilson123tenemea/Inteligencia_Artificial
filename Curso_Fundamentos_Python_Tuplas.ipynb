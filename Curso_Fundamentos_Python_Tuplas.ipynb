{
 "cells": [
  {
   "cell_type": "markdown",
   "id": "3958fd5a",
   "metadata": {},
   "source": [
    "# CURSO DE FUNDAMENTOS DE PYTHON\n",
    "## EJERCICIOS DE TUPLAS"
   ]
  },
  {
   "cell_type": "markdown",
   "id": "95569d08",
   "metadata": {},
   "source": [
    "### Ejercicio 1\n",
    "Crear una tupla vacía"
   ]
  },
  {
   "cell_type": "code",
   "execution_count": 1,
   "id": "4dbdd0f3",
   "metadata": {},
   "outputs": [
    {
     "data": {
      "text/plain": [
       "{}"
      ]
     },
     "execution_count": 1,
     "metadata": {},
     "output_type": "execute_result"
    }
   ],
   "source": [
    "# Escribe tu solución aquí\n",
    "tupla = {}\n",
    "tupla "
   ]
  },
  {
   "cell_type": "markdown",
   "id": "471ea4ec",
   "metadata": {},
   "source": [
    "### Ejercicio 2\n",
    "Crear una tupla con algunos elementos"
   ]
  },
  {
   "cell_type": "code",
   "execution_count": 2,
   "id": "d64155ad",
   "metadata": {},
   "outputs": [
    {
     "data": {
      "text/plain": [
       "{1, 2, 3, 4, 5}"
      ]
     },
     "execution_count": 2,
     "metadata": {},
     "output_type": "execute_result"
    }
   ],
   "source": [
    "# Escribe tu solución aquí\n",
    "tupla = {1, 2, 3, 4, 5}\n",
    "tupla"
   ]
  },
  {
   "cell_type": "markdown",
   "id": "e58dc97c",
   "metadata": {},
   "source": [
    "### Ejercicio 3\n",
    "Acceder a un elemento de la tupla"
   ]
  },
  {
   "cell_type": "code",
   "execution_count": null,
   "id": "3d38d0a1",
   "metadata": {},
   "outputs": [],
   "source": [
    "\n",
    "tupla = (1, 2, 3, 4, 5)\n",
    "print(\"Elemento en la posición 2:\", tupla[2])\n"
   ]
  },
  {
   "cell_type": "markdown",
   "id": "3d3ea4ff",
   "metadata": {},
   "source": [
    "### Ejercicio 4\n",
    "Intentar modificar un elemento de la tupla (esto producirá un error ya que las tuplas son inmutables)"
   ]
  },
  {
   "cell_type": "code",
   "execution_count": 3,
   "id": "23550096",
   "metadata": {},
   "outputs": [
    {
     "ename": "TypeError",
     "evalue": "'tuple' object does not support item assignment",
     "output_type": "error",
     "traceback": [
      "\u001b[1;31m---------------------------------------------------------------------------\u001b[0m",
      "\u001b[1;31mTypeError\u001b[0m                                 Traceback (most recent call last)",
      "Cell \u001b[1;32mIn[3], line 2\u001b[0m\n\u001b[0;32m      1\u001b[0m tupla \u001b[38;5;241m=\u001b[39m (\u001b[38;5;241m1\u001b[39m, \u001b[38;5;241m2\u001b[39m, \u001b[38;5;241m3\u001b[39m, \u001b[38;5;241m4\u001b[39m, \u001b[38;5;241m5\u001b[39m)\n\u001b[1;32m----> 2\u001b[0m tupla[\u001b[38;5;241m2\u001b[39m] \u001b[38;5;241m=\u001b[39m \u001b[38;5;241m10\u001b[39m\n",
      "\u001b[1;31mTypeError\u001b[0m: 'tuple' object does not support item assignment"
     ]
    }
   ],
   "source": [
    "tupla = (1, 2, 3, 4, 5)\n",
    "tupla[2] = 10  \n",
    "\n"
   ]
  },
  {
   "cell_type": "markdown",
   "id": "2f46a63f",
   "metadata": {},
   "source": [
    "### Ejercicio 5\n",
    "Concatenar dos tuplas"
   ]
  },
  {
   "cell_type": "code",
   "execution_count": null,
   "id": "a70577e9",
   "metadata": {},
   "outputs": [],
   "source": [
    "tupla1 = (1, 2, 3)\n",
    "tupla2 = (4, 5, 6)\n",
    "\n",
    "tupla_concatenada = tupla1 + tupla2\n",
    "\n",
    "print(\"Tupla concatenada:\", tupla_concatenada)\n",
    "\n"
   ]
  },
  {
   "cell_type": "markdown",
   "id": "06989a64",
   "metadata": {},
   "source": [
    "### Ejercicio 6\n",
    "Obtener la longitud de una tupla"
   ]
  },
  {
   "cell_type": "code",
   "execution_count": null,
   "id": "511c00ed",
   "metadata": {},
   "outputs": [],
   "source": [
    "tupla = (1, 2, 3, 4, 5)\n",
    "longitud = len(tupla)\n",
    "print(\"La longitud de la tupla es:\", longitud)\n"
   ]
  },
  {
   "cell_type": "markdown",
   "id": "043aa8f9",
   "metadata": {},
   "source": [
    "### Ejercicio 7\n",
    "Convertir una tupla en una lista"
   ]
  },
  {
   "cell_type": "code",
   "execution_count": null,
   "id": "be09e1b7",
   "metadata": {},
   "outputs": [],
   "source": [
    "tupla = (1, 2, 3, 4, 5)\n",
    "lista = list(tupla)\n",
    "print(\"Lista:\", lista)\n",
    "\n"
   ]
  },
  {
   "cell_type": "markdown",
   "id": "d9c8b3d6",
   "metadata": {},
   "source": [
    "### Ejercicio 8\n",
    "Convertir una lista en una tupla"
   ]
  },
  {
   "cell_type": "code",
   "execution_count": null,
   "id": "c9d30b3f",
   "metadata": {},
   "outputs": [],
   "source": [
    "\n",
    "lista = [1, 2, 3, 4, 5]\n",
    "\n",
    "tupla = tuple(lista)\n",
    "\n",
    "print(\"Tupla:\", tupla)\n"
   ]
  },
  {
   "cell_type": "markdown",
   "id": "7176ec06",
   "metadata": {},
   "source": [
    "### Ejercicio 9\n",
    "Crear una tupla de números enteros y calcular su suma y promedio"
   ]
  },
  {
   "cell_type": "code",
   "execution_count": null,
   "id": "e7f7a609",
   "metadata": {},
   "outputs": [],
   "source": [
    "# Crear una tupla de números enteros\n",
    "numeros = (10, 20, 30, 40, 50)\n",
    "\n",
    "suma = sum(numeros)\n",
    "\n",
    "promedio = suma / len(numeros)\n",
    "\n",
    "print(\"Tupla:\", numeros)\n",
    "print(\"Suma:\", suma)\n",
    "print(\"Promedio:\", promedio)\n"
   ]
  },
  {
   "cell_type": "markdown",
   "id": "40cff443",
   "metadata": {},
   "source": [
    "### Ejercicio 10\n",
    "Crear dos tuplas de la misma longitud y crear una nueva tupla que contenga la suma de los elementos correspondientes de ambas tuplas"
   ]
  },
  {
   "cell_type": "code",
   "execution_count": null,
   "id": "7e86cf87",
   "metadata": {},
   "outputs": [],
   "source": [
    "tupla1 = (1, 2, 3, 4, 5)\n",
    "tupla2 = (10, 20, 30, 40, 50)\n",
    "\n",
    "tupla_suma = tuple(a + b for a, b in zip(tupla1, tupla2))\n",
    "\n",
    "print(\"Tupla resultante:\", tupla_suma)\n"
   ]
  },
  {
   "cell_type": "markdown",
   "id": "1860c8b5",
   "metadata": {},
   "source": [
    "### Ejercicio 11\n",
    "Crear una tupla de nombres y ordenarla alfabéticamente"
   ]
  },
  {
   "cell_type": "code",
   "execution_count": null,
   "id": "8747c99f",
   "metadata": {},
   "outputs": [],
   "source": [
    "\n",
    "nombres = (\"Juan\", \"María\", \"Pedro\", \"Ana\")\n",
    "\n",
    "nombres_ordenados = sorted(nombres)\n",
    "\n",
    "print(\"Nombres ordenados:\", nombres_ordenados)\n"
   ]
  },
  {
   "cell_type": "markdown",
   "id": "55909a48",
   "metadata": {},
   "source": [
    "### Ejercicio 12\n",
    "Crear una tupla de números y encontrar el valor mínimo y máximo"
   ]
  },
  {
   "cell_type": "code",
   "execution_count": null,
   "id": "40caeaad",
   "metadata": {},
   "outputs": [],
   "source": [
    "numeros = (10, 25, 5, 40, 15)\n",
    "\n",
    "minimo = min(numeros)\n",
    "\n",
    "maximo = max(numeros)\n",
    "\n",
    "\n",
    "print(\"Tupla:\", numeros)\n",
    "print(\"Valor mínimo:\", minimo)\n",
    "print(\"Valor máximo:\", maximo)\n",
    "\n"
   ]
  },
  {
   "cell_type": "markdown",
   "id": "226d77e2",
   "metadata": {},
   "source": [
    "### Ejercicio 13\n",
    "Crear una tupla de números y convertirla en una lista"
   ]
  },
  {
   "cell_type": "code",
   "execution_count": null,
   "id": "8d33e2a9",
   "metadata": {},
   "outputs": [],
   "source": [
    "tupla_numeros = (1, 2, 3, 4, 5)\n",
    "\n",
    "lista_numeros = list(tupla_numeros)\n",
    "\n",
    "print(\"Lista:\", lista_numeros)\n",
    "\n"
   ]
  },
  {
   "cell_type": "markdown",
   "id": "aed8eb40",
   "metadata": {},
   "source": [
    "### Ejercicio 14\n",
    "Crear una tupla con los días de la semana y mostrar el tercer elemento"
   ]
  },
  {
   "cell_type": "code",
   "execution_count": null,
   "id": "e0e0592d",
   "metadata": {},
   "outputs": [],
   "source": [
    "dias_semana = (\"Lunes\", \"Martes\", \"Miércoles\", \"Jueves\", \"Viernes\", \"Sábado\", \"Domingo\")\n",
    "\n",
    "tercer_dia = dias_semana[2]\n",
    "\n",
    "\n",
    "print(\"El tercer día de la semana es:\", tercer_dia)\n",
    "\n"
   ]
  },
  {
   "cell_type": "markdown",
   "id": "a4e2f0bd",
   "metadata": {},
   "source": [
    "### Ejercicio 15\n",
    "Crear una tupla con números enteros y mostrar aquellos que son pares"
   ]
  },
  {
   "cell_type": "code",
   "execution_count": null,
   "id": "ae68bcc2",
   "metadata": {},
   "outputs": [],
   "source": [
    "numeros = (1, 2, 3, 4, 5, 6, 7, 8, 9, 10)\n",
    "pares = tuple(num for num in numeros if num % 2 == 0)\n",
    "print(\"Números pares:\", pares)\n",
    "\n"
   ]
  },
  {
   "cell_type": "markdown",
   "id": "e062a7b7",
   "metadata": {},
   "source": [
    "### Ejercicio 16\n",
    "Crear una tupla con los meses del año y mostrar aquellos que tienen más de cinco letras"
   ]
  },
  {
   "cell_type": "code",
   "execution_count": null,
   "id": "e58a5aeb",
   "metadata": {},
   "outputs": [],
   "source": [
    "\n",
    "meses = (\"Enero\", \"Febrero\", \"Marzo\", \"Abril\", \"Mayo\", \"Junio\", \n",
    "         \"Julio\", \"Agosto\", \"Septiembre\", \"Octubre\", \"Noviembre\", \"Diciembre\")\n",
    "\n",
    "meses_largos = tuple(mes for mes in meses if len(mes) > 5)\n",
    "\n",
    "print(\"Meses con más de cinco letras:\", meses_largos)\n"
   ]
  },
  {
   "cell_type": "markdown",
   "id": "c7e09ce7",
   "metadata": {},
   "source": [
    "### Ejercicio 17\n",
    "Crear una tupla con las edades de varias personas y mostrar la cantidad de personas mayores de 18 años"
   ]
  },
  {
   "cell_type": "code",
   "execution_count": null,
   "id": "d07c0fd7",
   "metadata": {},
   "outputs": [],
   "source": [
    "edades = (15, 22, 17, 30, 19, 12, 25)\n",
    "\n",
    "mayores_18 = sum(1 for edad in edades if edad > 18)\n",
    "\n",
    "print(\"Cantidad de personas mayores de 18 años:\", mayores_18)\n",
    "\n"
   ]
  },
  {
   "cell_type": "markdown",
   "id": "e499c0fc",
   "metadata": {},
   "source": [
    "### Ejercicio 18\n",
    "Crear una tupla de tuplas que contienen información de libros y mostrar el título del tercer libro"
   ]
  },
  {
   "cell_type": "code",
   "execution_count": null,
   "id": "bdb7376a",
   "metadata": {},
   "outputs": [],
   "source": [
    "libros = (\n",
    "    (\"Cien años de soledad\", \"Gabriel García Márquez\", 1967),\n",
    "    (\"Don Quijote de la Mancha\", \"Miguel de Cervantes\", 1605),\n",
    "    (\"1984\", \"George Orwell\", 1949),\n",
    "    (\"El Principito\", \"Antoine de Saint-Exupéry\", 1943)\n",
    ")\n",
    "\n",
    "titulo_tercer_libro = libros[2][0]\n",
    "\n",
    "print(\"Título del tercer libro:\", titulo_tercer_libro)\n"
   ]
  }
 ],
 "metadata": {
  "kernelspec": {
   "display_name": "base",
   "language": "python",
   "name": "python3"
  },
  "language_info": {
   "codemirror_mode": {
    "name": "ipython",
    "version": 3
   },
   "file_extension": ".py",
   "mimetype": "text/x-python",
   "name": "python",
   "nbconvert_exporter": "python",
   "pygments_lexer": "ipython3",
   "version": "3.13.5"
  }
 },
 "nbformat": 4,
 "nbformat_minor": 5
}
