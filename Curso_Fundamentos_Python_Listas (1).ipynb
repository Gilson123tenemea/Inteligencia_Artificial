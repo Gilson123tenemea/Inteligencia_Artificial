{
 "cells": [
  {
   "cell_type": "markdown",
   "id": "9c8a3592",
   "metadata": {},
   "source": [
    "# 📘 Curso de Fundamentos de Python\n",
    "## Ejercicios sobre Listas"
   ]
  },
  {
   "cell_type": "markdown",
   "id": "2adb2e11",
   "metadata": {},
   "source": [
    "### Ejercicio 1\n",
    "Crear una lista de números del 1 al 5"
   ]
  },
  {
   "cell_type": "code",
   "execution_count": 9,
   "id": "925ba314",
   "metadata": {},
   "outputs": [
    {
     "data": {
      "text/plain": [
       "[1, 2, 3, 4, 5]"
      ]
     },
     "execution_count": 9,
     "metadata": {},
     "output_type": "execute_result"
    }
   ],
   "source": [
    "# Escribe tu solución aquí\n",
    "numeros = [1, 2, 3, 4, 5]\n",
    "numeros"
   ]
  },
  {
   "cell_type": "markdown",
   "id": "362808e1",
   "metadata": {},
   "source": [
    "### Ejercicio 2\n",
    "Accede al elemento 3 de la lista"
   ]
  },
  {
   "cell_type": "code",
   "execution_count": 10,
   "id": "2319a142",
   "metadata": {},
   "outputs": [
    {
     "data": {
      "text/plain": [
       "4"
      ]
     },
     "execution_count": 10,
     "metadata": {},
     "output_type": "execute_result"
    }
   ],
   "source": [
    "numeros[3]\n"
   ]
  },
  {
   "cell_type": "markdown",
   "id": "313eacda",
   "metadata": {},
   "source": [
    "### Ejercicio 3\n",
    "Modifica un elemento de la lista"
   ]
  },
  {
   "cell_type": "code",
   "execution_count": 11,
   "id": "0cfebfd2",
   "metadata": {},
   "outputs": [
    {
     "data": {
      "text/plain": [
       "[1, 2, 3, 4, 'hola']"
      ]
     },
     "execution_count": 11,
     "metadata": {},
     "output_type": "execute_result"
    }
   ],
   "source": [
    "# Escribe tu solución aquí\n",
    "numeros[4] = 'hola'\n",
    "numeros\n"
   ]
  },
  {
   "cell_type": "markdown",
   "id": "be603b72",
   "metadata": {},
   "source": [
    "### Ejercicio 4\n",
    "Agrega el elemento 9 al final de la lista"
   ]
  },
  {
   "cell_type": "code",
   "execution_count": 12,
   "id": "cb51d97c",
   "metadata": {},
   "outputs": [
    {
     "data": {
      "text/plain": [
       "[1, 2, 3, 4, 'hola', 9]"
      ]
     },
     "execution_count": 12,
     "metadata": {},
     "output_type": "execute_result"
    }
   ],
   "source": [
    "numeros.append(9)\n",
    "numeros"
   ]
  },
  {
   "cell_type": "markdown",
   "id": "bb807351",
   "metadata": {},
   "source": [
    "### Ejercicio 5\n",
    "Eliminar el elemento 2 de la lista"
   ]
  },
  {
   "cell_type": "code",
   "execution_count": 13,
   "id": "1ac1124c",
   "metadata": {},
   "outputs": [
    {
     "data": {
      "text/plain": [
       "[1, 3, 4, 'hola', 9]"
      ]
     },
     "execution_count": 13,
     "metadata": {},
     "output_type": "execute_result"
    }
   ],
   "source": [
    "# Escribe tu solución aquí\n",
    "numeros.remove(2)\n",
    "numeros"
   ]
  },
  {
   "cell_type": "markdown",
   "id": "13f8eabe",
   "metadata": {},
   "source": [
    "### Ejercicio 6\n",
    "Recorrer una lista con un bucle for"
   ]
  },
  {
   "cell_type": "code",
   "execution_count": 14,
   "id": "3b159a5b",
   "metadata": {},
   "outputs": [
    {
     "name": "stdout",
     "output_type": "stream",
     "text": [
      "1\n",
      "3\n",
      "4\n",
      "hola\n",
      "9\n"
     ]
    }
   ],
   "source": [
    "# Escribe tu solución aquí\n",
    "for numero in numeros:\n",
    "    print(numero)"
   ]
  },
  {
   "cell_type": "markdown",
   "id": "ddb853a4",
   "metadata": {},
   "source": [
    "### Ejercicio 7\n",
    "Ordenar una lista"
   ]
  },
  {
   "cell_type": "code",
   "execution_count": 17,
   "id": "e7577824",
   "metadata": {},
   "outputs": [
    {
     "data": {
      "text/plain": [
       "[1, 2, 3, 4, 5]"
      ]
     },
     "execution_count": 17,
     "metadata": {},
     "output_type": "execute_result"
    }
   ],
   "source": [
    "# Escribe tu solución aquí\n",
    "numeros1 = [3, 1, 4, 2, 5]\n",
    "numeros1.sort()\n",
    "numeros1"
   ]
  },
  {
   "cell_type": "markdown",
   "id": "d4b00f9b",
   "metadata": {},
   "source": [
    "### Ejercicio 8\n",
    "Obtener la longitud de una lista"
   ]
  },
  {
   "cell_type": "code",
   "execution_count": 18,
   "id": "edbccdd2",
   "metadata": {},
   "outputs": [
    {
     "data": {
      "text/plain": [
       "5"
      ]
     },
     "execution_count": 18,
     "metadata": {},
     "output_type": "execute_result"
    }
   ],
   "source": [
    "# Escribe tu solución aquí\n",
    "numeros1.__len__()"
   ]
  },
  {
   "cell_type": "markdown",
   "id": "23f06feb",
   "metadata": {},
   "source": [
    "### Ejercicio 9\n",
    "Comprobar si un elemento está en la lista"
   ]
  },
  {
   "cell_type": "code",
   "execution_count": 19,
   "id": "5871d43e",
   "metadata": {},
   "outputs": [
    {
     "data": {
      "text/plain": [
       "True"
      ]
     },
     "execution_count": 19,
     "metadata": {},
     "output_type": "execute_result"
    }
   ],
   "source": [
    "# Escribe tu solución aquí\n",
    "4 in numeros1"
   ]
  },
  {
   "cell_type": "markdown",
   "id": "14480faf",
   "metadata": {},
   "source": [
    "### Ejercicio 10\n",
    "Presentar el número mínimo"
   ]
  },
  {
   "cell_type": "code",
   "execution_count": 22,
   "id": "6aa17ac0",
   "metadata": {},
   "outputs": [
    {
     "data": {
      "text/plain": [
       "1"
      ]
     },
     "execution_count": 22,
     "metadata": {},
     "output_type": "execute_result"
    }
   ],
   "source": [
    "# Escribe tu solución aquí\n",
    "minimo = min(numeros1)\n",
    "minimo"
   ]
  },
  {
   "cell_type": "markdown",
   "id": "cbf4eed9",
   "metadata": {},
   "source": [
    "### Ejercicio 11\n",
    "Presentar el número máximo"
   ]
  },
  {
   "cell_type": "code",
   "execution_count": 23,
   "id": "77ded549",
   "metadata": {},
   "outputs": [
    {
     "data": {
      "text/plain": [
       "5"
      ]
     },
     "execution_count": 23,
     "metadata": {},
     "output_type": "execute_result"
    }
   ],
   "source": [
    "# Escribe tu solución aquí\n",
    "maximo = max(numeros1)\n",
    "maximo"
   ]
  },
  {
   "cell_type": "markdown",
   "id": "566ba5e2",
   "metadata": {},
   "source": [
    "# CURSO DE FUNDAMENTOS DE PYTHON\n",
    "## EJERCICIOS DE LISTAS A RESOLVER"
   ]
  },
  {
   "cell_type": "markdown",
   "id": "cdad9829",
   "metadata": {},
   "source": [
    "### Ejercicio Extra 1\n",
    "Crea una lista vacía llamada `numeros` e introduce los números del 1 al 5. Luego, muestra la lista por pantalla."
   ]
  },
  {
   "cell_type": "code",
   "execution_count": 24,
   "id": "b0f1e0fe",
   "metadata": {},
   "outputs": [
    {
     "data": {
      "text/plain": [
       "[1, 2, 3, 4, 5]"
      ]
     },
     "execution_count": 24,
     "metadata": {},
     "output_type": "execute_result"
    }
   ],
   "source": [
    "# Escribe tu solución aquí\n",
    "numeros = [1, 2, 3, 4, 5]\n",
    "numeros"
   ]
  },
  {
   "cell_type": "markdown",
   "id": "7fca3a9d",
   "metadata": {},
   "source": [
    "### Ejercicio Extra 2\n",
    "Crea una lista con los nombres de tus amigos y muestra por pantalla el primer elemento de la lista."
   ]
  },
  {
   "cell_type": "code",
   "execution_count": 25,
   "id": "c4d5d90c",
   "metadata": {},
   "outputs": [
    {
     "data": {
      "text/plain": [
       "'Luis'"
      ]
     },
     "execution_count": 25,
     "metadata": {},
     "output_type": "execute_result"
    }
   ],
   "source": [
    "# Escribe tu solución aquí\n",
    "nombres = ['Ana', 'Luis', 'Carlos', 'Marta']\n",
    "nombres[1]"
   ]
  },
  {
   "cell_type": "markdown",
   "id": "56ee8c20",
   "metadata": {},
   "source": [
    "### Ejercicio Extra 3\n",
    "Crea una lista con los números del 1 al 10 y muestra por pantalla los números pares."
   ]
  },
  {
   "cell_type": "code",
   "execution_count": 26,
   "id": "30867884",
   "metadata": {},
   "outputs": [
    {
     "name": "stdout",
     "output_type": "stream",
     "text": [
      "0\n",
      "2\n",
      "4\n",
      "6\n",
      "8\n"
     ]
    }
   ],
   "source": [
    "# Escribe tu solución aquí\n",
    "#numerospares = [1,2,3,4,5,6,7,8,9,10]\n",
    "for numerospares in range(0,10,2):\n",
    "    print(numerospares)"
   ]
  },
  {
   "cell_type": "markdown",
   "id": "fdc7b42b",
   "metadata": {},
   "source": [
    "### Ejercicio Extra 4\n",
    "Crea una lista con los nombres de tus amigos y muestra por pantalla el último elemento de la lista."
   ]
  },
  {
   "cell_type": "code",
   "execution_count": 27,
   "id": "50c378a5",
   "metadata": {},
   "outputs": [
    {
     "data": {
      "text/plain": [
       "'Marta'"
      ]
     },
     "execution_count": 27,
     "metadata": {},
     "output_type": "execute_result"
    }
   ],
   "source": [
    "# Escribe tu solución aquí\n",
    "nombres[-1]\n"
   ]
  },
  {
   "cell_type": "markdown",
   "id": "84a05781",
   "metadata": {},
   "source": [
    "### Ejercicio Extra 5\n",
    "Crea una lista con los números del 1 al 10 y muestra por pantalla el último elemento de la lista."
   ]
  },
  {
   "cell_type": "code",
   "execution_count": 39,
   "id": "a391bd9c",
   "metadata": {},
   "outputs": [
    {
     "data": {
      "text/plain": [
       "10"
      ]
     },
     "execution_count": 39,
     "metadata": {},
     "output_type": "execute_result"
    }
   ],
   "source": [
    "listas =[1,2,3,4,5,6,7,8,9,10]\n",
    "ultimo_elemento = listas[-1]\n",
    "(ultimo_elemento)\n"
   ]
  },
  {
   "cell_type": "markdown",
   "id": "7d17266f",
   "metadata": {},
   "source": [
    "### Ejercicio Extra 6\n",
    "Crea una lista con los números del 1 al 10 y muestra por pantalla los números impares."
   ]
  },
  {
   "cell_type": "code",
   "execution_count": 41,
   "id": "ea852e2c",
   "metadata": {},
   "outputs": [
    {
     "name": "stdout",
     "output_type": "stream",
     "text": [
      "1\n",
      "3\n",
      "5\n",
      "7\n",
      "9\n"
     ]
    }
   ],
   "source": [
    "# Escribe tu solución aquí\n",
    "for numerosimpares in range(1,10,2):\n",
    "    print(numerosimpares)"
   ]
  },
  {
   "cell_type": "markdown",
   "id": "6f01fe16",
   "metadata": {},
   "source": [
    "### Ejercicio Extra 7\n",
    "Crea una lista con los nombres de tus amigos y añade un nuevo amigo a la lista. Luego, muestra la lista por pantalla."
   ]
  },
  {
   "cell_type": "code",
   "execution_count": 31,
   "id": "bb8a403a",
   "metadata": {},
   "outputs": [
    {
     "data": {
      "text/plain": [
       "['Ana', 'Luis', 'Carlos', 'Marta', 'Elena']"
      ]
     },
     "execution_count": 31,
     "metadata": {},
     "output_type": "execute_result"
    }
   ],
   "source": [
    "# Escribe tu solución aquí\n",
    "nombres .append('Elena')\n",
    "nombres"
   ]
  },
  {
   "cell_type": "markdown",
   "id": "56526675",
   "metadata": {},
   "source": [
    "### Ejercicio Extra 8\n",
    "Crea una lista con los números del 1 al 10 y muestra por pantalla el primer y el último elemento de la lista."
   ]
  },
  {
   "cell_type": "code",
   "execution_count": 33,
   "id": "e7c8e0ee",
   "metadata": {},
   "outputs": [
    {
     "name": "stdout",
     "output_type": "stream",
     "text": [
      "primer elemento: 1\n",
      "segundo elemento: 2\n"
     ]
    }
   ],
   "source": [
    "listas\n",
    "print(\"primer elemento:\", listas[0])\n",
    "print(\"segundo elemento:\", listas[1])"
   ]
  },
  {
   "cell_type": "markdown",
   "id": "a47f4771",
   "metadata": {},
   "source": [
    "### Ejercicio Extra 9\n",
    "Crea una lista con los nombres de tus amigos y muestra por pantalla el número de elementos de la lista."
   ]
  },
  {
   "cell_type": "code",
   "execution_count": 36,
   "id": "00020575",
   "metadata": {},
   "outputs": [
    {
     "data": {
      "text/plain": [
       "5"
      ]
     },
     "execution_count": 36,
     "metadata": {},
     "output_type": "execute_result"
    }
   ],
   "source": [
    "# Escribe tu solución aquí\n",
    "\n",
    "nombres.__len__()"
   ]
  },
  {
   "cell_type": "markdown",
   "id": "3ae75989",
   "metadata": {},
   "source": [
    "### Ejercicio Extra 10\n",
    "Crea una lista con los números del 1 al 10 y muestra por pantalla la suma de todos los elementos de la lista."
   ]
  },
  {
   "cell_type": "code",
   "execution_count": 38,
   "id": "7cf0c8e0",
   "metadata": {},
   "outputs": [
    {
     "data": {
      "text/plain": [
       "55"
      ]
     },
     "execution_count": 38,
     "metadata": {},
     "output_type": "execute_result"
    }
   ],
   "source": [
    "# Escribe tu solución aquí\n",
    "listas\n",
    "sumalista = sum(listas)\n",
    "sumalista"
   ]
  }
 ],
 "metadata": {
  "kernelspec": {
   "display_name": "base",
   "language": "python",
   "name": "python3"
  },
  "language_info": {
   "codemirror_mode": {
    "name": "ipython",
    "version": 3
   },
   "file_extension": ".py",
   "mimetype": "text/x-python",
   "name": "python",
   "nbconvert_exporter": "python",
   "pygments_lexer": "ipython3",
   "version": "3.13.5"
  }
 },
 "nbformat": 4,
 "nbformat_minor": 5
}
