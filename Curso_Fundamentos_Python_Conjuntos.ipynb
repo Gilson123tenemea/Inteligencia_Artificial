{
 "cells": [
  {
   "cell_type": "markdown",
   "id": "e34db480",
   "metadata": {},
   "source": [
    "# CURSO DE FUNDAMENTOS DE PYTHON\n",
    "## EJERCICIOS DE CONJUNTOS"
   ]
  },
  {
   "cell_type": "markdown",
   "id": "dc8f3c47",
   "metadata": {},
   "source": [
    "### Ejercicio 1\n",
    "Crear un conjunto con los números del 1 al 10 e imprimirlo en pantalla."
   ]
  },
  {
   "cell_type": "code",
   "execution_count": null,
   "id": "00e43c48",
   "metadata": {},
   "outputs": [],
   "source": [
    "# Escribe tu solución aquí\n"
   ]
  },
  {
   "cell_type": "markdown",
   "id": "529c367c",
   "metadata": {},
   "source": [
    "### Ejercicio 2\n",
    "Crear dos conjuntos, uno con los números pares del 1 al 10 y otro con los impares del 1 al 10. Luego, imprimir los conjuntos y la intersección entre ellos."
   ]
  },
  {
   "cell_type": "code",
   "execution_count": null,
   "id": "1d4dfc6e",
   "metadata": {},
   "outputs": [],
   "source": [
    "# Escribe tu solución aquí\n"
   ]
  },
  {
   "cell_type": "markdown",
   "id": "c9ff0b79",
   "metadata": {},
   "source": [
    "### Ejercicio 3\n",
    "Crear un conjunto con los elementos 'manzana', 'banana' y 'naranja'. Luego, pedirle al usuario que ingrese un elemento y determinar si ese elemento se encuentra en el conjunto o no."
   ]
  },
  {
   "cell_type": "code",
   "execution_count": null,
   "id": "80ec33af",
   "metadata": {},
   "outputs": [],
   "source": [
    "# Escribe tu solución aquí\n"
   ]
  },
  {
   "cell_type": "markdown",
   "id": "7545cdae",
   "metadata": {},
   "source": [
    "### Ejercicio 4\n",
    "Crear un conjunto con los números del 1 al 5 y otro con los números del 4 al 8. Luego, unir los conjuntos y eliminar los elementos repetidos. Finalmente, imprimir el conjunto resultante."
   ]
  },
  {
   "cell_type": "code",
   "execution_count": null,
   "id": "ecc7296a",
   "metadata": {},
   "outputs": [],
   "source": [
    "# Escribe tu solución aquí\n"
   ]
  },
  {
   "cell_type": "markdown",
   "id": "5d429254",
   "metadata": {},
   "source": [
    "### Ejercicio 5\n",
    "Crear un conjunto con los elementos 'leche', 'pan', 'huevos' y 'azúcar'. Luego, eliminar el elemento 'azúcar' del conjunto y agregar el elemento 'harina'. Finalmente, imprimir el conjunto resultante."
   ]
  },
  {
   "cell_type": "code",
   "execution_count": null,
   "id": "234690d4",
   "metadata": {},
   "outputs": [],
   "source": [
    "# Escribe tu solución aquí\n"
   ]
  },
  {
   "cell_type": "markdown",
   "id": "bd91310a",
   "metadata": {},
   "source": [
    "### Ejercicio 6\n",
    "Crear un conjunto con los nombres 'Juan', 'María', 'Pedro' y 'Luisa'. Luego, imprimir el número de elementos del conjunto."
   ]
  },
  {
   "cell_type": "code",
   "execution_count": null,
   "id": "06a8bc38",
   "metadata": {},
   "outputs": [],
   "source": [
    "# Escribe tu solución aquí\n"
   ]
  },
  {
   "cell_type": "markdown",
   "id": "ed349212",
   "metadata": {},
   "source": [
    "### Ejercicio 7\n",
    "Crear dos conjuntos, uno con los números del 1 al 5 y otro con los números del 4 al 8. Luego, imprimir los conjuntos y la diferencia simétrica entre ellos."
   ]
  },
  {
   "cell_type": "code",
   "execution_count": null,
   "id": "937c8425",
   "metadata": {},
   "outputs": [],
   "source": [
    "# Escribe tu solución aquí\n"
   ]
  },
  {
   "cell_type": "markdown",
   "id": "0f51fba6",
   "metadata": {},
   "source": [
    "### Ejercicio 8\n",
    "Crear un conjunto con los números del 1 al 10 y otro con los números del 5 al 15. Luego, imprimir los conjuntos y la unión entre ellos."
   ]
  },
  {
   "cell_type": "code",
   "execution_count": null,
   "id": "8dae4f93",
   "metadata": {},
   "outputs": [],
   "source": [
    "# Escribe tu solución aquí\n"
   ]
  },
  {
   "cell_type": "markdown",
   "id": "254ab7d8",
   "metadata": {},
   "source": [
    "### Ejercicio 9\n",
    "Crear un conjunto con los elementos 'manzana', 'banana', 'naranja' y 'pera'. Luego, imprimir los elementos del conjunto en orden alfabético."
   ]
  },
  {
   "cell_type": "code",
   "execution_count": null,
   "id": "fdafdce4",
   "metadata": {},
   "outputs": [],
   "source": [
    "# Escribe tu solución aquí\n"
   ]
  },
  {
   "cell_type": "markdown",
   "id": "db50ac1c",
   "metadata": {},
   "source": [
    "### Ejercicio 10\n",
    "Crear un conjunto con los números del 1 al 10 y otro con los números del 6 al 15. Luego, imprimir los conjuntos y la intersección entre ellos."
   ]
  },
  {
   "cell_type": "code",
   "execution_count": null,
   "id": "347edd2b",
   "metadata": {},
   "outputs": [],
   "source": [
    "# Escribe tu solución aquí\n"
   ]
  }
 ],
 "metadata": {},
 "nbformat": 4,
 "nbformat_minor": 5
}
