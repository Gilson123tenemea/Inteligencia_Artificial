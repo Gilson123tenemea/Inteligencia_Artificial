{
 "cells": [
  {
   "cell_type": "markdown",
   "id": "e34db480",
   "metadata": {},
   "source": [
    "# CURSO DE FUNDAMENTOS DE PYTHON\n",
    "## EJERCICIOS DE CONJUNTOS"
   ]
  },
  {
   "cell_type": "markdown",
   "id": "dc8f3c47",
   "metadata": {},
   "source": [
    "### Ejercicio 1\n",
    "Crear un conjunto con los números del 1 al 10 e imprimirlo en pantalla."
   ]
  },
  {
   "cell_type": "code",
   "execution_count": 1,
   "id": "00e43c48",
   "metadata": {},
   "outputs": [
    {
     "data": {
      "text/plain": [
       "{1, 2, 3, 4, 5, 6, 7, 8, 9, 10}"
      ]
     },
     "execution_count": 1,
     "metadata": {},
     "output_type": "execute_result"
    }
   ],
   "source": [
    "# Escribe tu solución aquí\n",
    "numeros = {1, 2, 3, 4, 5,6,7,8,9,10}\n",
    "numeros"
   ]
  },
  {
   "cell_type": "markdown",
   "id": "529c367c",
   "metadata": {},
   "source": [
    "### Ejercicio 2\n",
    "Crear dos conjuntos, uno con los números pares del 1 al 10 y otro con los impares del 1 al 10. Luego, imprimir los conjuntos y la intersección entre ellos."
   ]
  },
  {
   "cell_type": "code",
   "execution_count": 2,
   "id": "1d4dfc6e",
   "metadata": {},
   "outputs": [
    {
     "data": {
      "text/plain": [
       "set()"
      ]
     },
     "execution_count": 2,
     "metadata": {},
     "output_type": "execute_result"
    }
   ],
   "source": [
    "# Escribe tu solución aquí\n",
    "pares = {2, 4, 6, 8, 10}\n",
    "impares = {1, 3, 5, 7, 9}\n",
    "interseccion = pares & impares\n",
    "interseccion"
   ]
  },
  {
   "cell_type": "markdown",
   "id": "c9ff0b79",
   "metadata": {},
   "source": [
    "### Ejercicio 3\n",
    "Crear un conjunto con los elementos 'manzana', 'banana' y 'naranja'. Luego, pedirle al usuario que ingrese un elemento y determinar si ese elemento se encuentra en el conjunto o no."
   ]
  },
  {
   "cell_type": "code",
   "execution_count": 3,
   "id": "80ec33af",
   "metadata": {},
   "outputs": [
    {
     "name": "stdout",
     "output_type": "stream",
     "text": [
      "manzana está en el conjunto.\n"
     ]
    }
   ],
   "source": [
    "# Escribe tu solución aquí\n",
    "frutas = {\"manzana\", \"banana\", \"naranja\"}\n",
    "elemento = input(\"Ingresa una fruta: \")\n",
    "if elemento in frutas:\n",
    "    print(f\"{elemento} está en el conjunto.\")\n",
    "else:\n",
    "    print(f\"{elemento} NO está en el conjunto.\")\n"
   ]
  },
  {
   "cell_type": "markdown",
   "id": "7545cdae",
   "metadata": {},
   "source": [
    "### Ejercicio 4\n",
    "Crear un conjunto con los números del 1 al 5 y otro con los números del 4 al 8. Luego, unir los conjuntos y eliminar los elementos repetidos. Finalmente, imprimir el conjunto resultante."
   ]
  },
  {
   "cell_type": "code",
   "execution_count": 4,
   "id": "ecc7296a",
   "metadata": {},
   "outputs": [
    {
     "name": "stdout",
     "output_type": "stream",
     "text": [
      "Conjunto resultante: {1, 2, 3, 4, 5, 6, 7, 8}\n"
     ]
    }
   ],
   "source": [
    "# Escribe tu solución aquí\n",
    "conjunto1 = {1, 2, 3, 4, 5}\n",
    "conjunto2 = {4, 5, 6, 7, 8}\n",
    "union = conjunto1 | conjunto2   \n",
    "print(\"Conjunto resultante:\", union)"
   ]
  },
  {
   "cell_type": "markdown",
   "id": "5d429254",
   "metadata": {},
   "source": [
    "### Ejercicio 5\n",
    "Crear un conjunto con los elementos 'leche', 'pan', 'huevos' y 'azúcar'. Luego, eliminar el elemento 'azúcar' del conjunto y agregar el elemento 'harina'. Finalmente, imprimir el conjunto resultante."
   ]
  },
  {
   "cell_type": "code",
   "execution_count": null,
   "id": "234690d4",
   "metadata": {},
   "outputs": [],
   "source": [
    "# Escribe tu solución aquí\n",
    "compras = {\"leche\", \"pan\", \"huevos\", \"azúcar\"}\n",
    "compras.remove(\"azúcar\")\n",
    "compras.add(\"harina\")\n",
    "print(\"Conjunto resultante:\", compras)\n"
   ]
  },
  {
   "cell_type": "markdown",
   "id": "bd91310a",
   "metadata": {},
   "source": [
    "### Ejercicio 6\n",
    "Crear un conjunto con los nombres 'Juan', 'María', 'Pedro' y 'Luisa'. Luego, imprimir el número de elementos del conjunto."
   ]
  },
  {
   "cell_type": "code",
   "execution_count": null,
   "id": "06a8bc38",
   "metadata": {},
   "outputs": [],
   "source": [
    "# Escribe tu solución aquí\n",
    "nombres = {\"Juan\", \"María\", \"Pedro\", \"Luisa\"}\n",
    "print(\"Número de elementos en el conjunto:\", len(nombres))\n"
   ]
  },
  {
   "cell_type": "markdown",
   "id": "ed349212",
   "metadata": {},
   "source": [
    "### Ejercicio 7\n",
    "Crear dos conjuntos, uno con los números del 1 al 5 y otro con los números del 4 al 8. Luego, imprimir los conjuntos y la diferencia simétrica entre ellos."
   ]
  },
  {
   "cell_type": "code",
   "execution_count": null,
   "id": "937c8425",
   "metadata": {},
   "outputs": [],
   "source": [
    "# Crear los conjuntos\n",
    "conjunto1 = {1, 2, 3, 4, 5}\n",
    "conjunto2 = {4, 5, 6, 7, 8}\n",
    "print(\"Conjunto 1:\", conjunto1)\n",
    "print(\"Conjunto 2:\", conjunto2)\n",
    "diferencia_simetrica = conjunto1 ^ conjunto2\n",
    "print(\"Diferencia simétrica:\", diferencia_simetrica)\n"
   ]
  },
  {
   "cell_type": "markdown",
   "id": "0f51fba6",
   "metadata": {},
   "source": [
    "### Ejercicio 8\n",
    "Crear un conjunto con los números del 1 al 10 y otro con los números del 5 al 15. Luego, imprimir los conjuntos y la unión entre ellos."
   ]
  },
  {
   "cell_type": "code",
   "execution_count": null,
   "id": "8dae4f93",
   "metadata": {},
   "outputs": [],
   "source": [
    "# Escribe tu solución aquí\n",
    "conjunto1 = {1, 2, 3, 4, 5, 6, 7, 8, 9, 10}\n",
    "conjunto2 = {5, 6, 7, 8, 9, 10, 11, 12, 13, 14, 15}\n",
    "print(\"Conjunto 1:\", conjunto1)\n",
    "print(\"Conjunto 2:\", conjunto2)\n",
    "union = conjunto1 | conjunto2  \n",
    "print(\"Unión:\", union)\n"
   ]
  },
  {
   "cell_type": "markdown",
   "id": "254ab7d8",
   "metadata": {},
   "source": [
    "### Ejercicio 9\n",
    "Crear un conjunto con los elementos 'manzana', 'banana', 'naranja' y 'pera'. Luego, imprimir los elementos del conjunto en orden alfabético."
   ]
  },
  {
   "cell_type": "code",
   "execution_count": null,
   "id": "fdafdce4",
   "metadata": {},
   "outputs": [],
   "source": [
    "# Escribe tu solución aquí\n",
    "frutas = {\"manzana\", \"banana\", \"naranja\", \"pera\"}\n",
    "for fruta in sorted(frutas):\n",
    "    print(fruta)\n"
   ]
  },
  {
   "cell_type": "markdown",
   "id": "db50ac1c",
   "metadata": {},
   "source": [
    "### Ejercicio 10\n",
    "Crear un conjunto con los números del 1 al 10 y otro con los números del 6 al 15. Luego, imprimir los conjuntos y la intersección entre ellos."
   ]
  },
  {
   "cell_type": "code",
   "execution_count": null,
   "id": "347edd2b",
   "metadata": {},
   "outputs": [],
   "source": [
    "conjunto1 = {1, 2, 3, 4, 5, 6, 7, 8, 9, 10}\n",
    "conjunto2 = {6, 7, 8, 9, 10, 11, 12, 13, 14, 15}\n",
    "print(\"Conjunto 1:\", conjunto1)\n",
    "print(\"Conjunto 2:\", conjunto2)\n",
    "interseccion = conjunto1 & conjunto2   \n",
    "\n",
    "print(\"Intersección:\", interseccion)\n"
   ]
  }
 ],
 "metadata": {
  "kernelspec": {
   "display_name": "base",
   "language": "python",
   "name": "python3"
  },
  "language_info": {
   "codemirror_mode": {
    "name": "ipython",
    "version": 3
   },
   "file_extension": ".py",
   "mimetype": "text/x-python",
   "name": "python",
   "nbconvert_exporter": "python",
   "pygments_lexer": "ipython3",
   "version": "3.13.5"
  }
 },
 "nbformat": 4,
 "nbformat_minor": 5
}
